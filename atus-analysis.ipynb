{
 "cells": [
  {
   "cell_type": "markdown",
   "metadata": {},
   "source": [
    "# Why ATUS?\n",
    "The American Time Use Survey, or ATUS, is an annual survey given to thousands of Americans every year. The people surveyed took down notes about a single 'diary day' and then relayed their results to an interviewer. Thus the ATUS provides a tremendous amount of raw data about the day to day activities of Americans."
   ]
  },
  {
   "cell_type": "markdown",
   "metadata": {},
   "source": [
    "### Import tools and libraries"
   ]
  },
  {
   "cell_type": "code",
   "execution_count": 1,
   "metadata": {
    "collapsed": true
   },
   "outputs": [],
   "source": [
    "import matplotlib.pyplot as plt\n",
    "import numpy as np\n",
    "import pandas as pd\n",
    "import seaborn\n",
    "%matplotlib inline"
   ]
  },
  {
   "cell_type": "markdown",
   "metadata": {},
   "source": [
    "### Import and Prep Raw Data Files"
   ]
  },
  {
   "cell_type": "code",
   "execution_count": 2,
   "metadata": {
    "collapsed": true
   },
   "outputs": [],
   "source": [
    "summary = pd.read_csv('data/atussum_2014.dat')\n",
    "summary.rename(columns={'TEAGE':'Age', 'TESEX':'Sex', 'TRCHILDNUM': 'Num_Kids', 'tucaseid':'ID', 't030102':'read_kids', 't030106':'talk_kids', 't030104':'arts_kids', 't120303':'TV'}, inplace=True)\n",
    "pd.options.display.max_rows = 100\n",
    "pd.options.display.max_columns = 100"
   ]
  },
  {
   "cell_type": "markdown",
   "metadata": {},
   "source": [
    "#### Basic Data Info"
   ]
  },
  {
   "cell_type": "code",
   "execution_count": 3,
   "metadata": {
    "collapsed": false
   },
   "outputs": [
    {
     "data": {
      "text/plain": [
       "count    11592.000000\n",
       "mean       179.350587\n",
       "std        181.520430\n",
       "min          0.000000\n",
       "25%         45.000000\n",
       "50%        121.000000\n",
       "75%        260.000000\n",
       "max       1385.000000\n",
       "Name: TV, dtype: float64"
      ]
     },
     "execution_count": 3,
     "metadata": {},
     "output_type": "execute_result"
    }
   ],
   "source": [
    "summary.TV.describe()"
   ]
  },
  {
   "cell_type": "code",
   "execution_count": 4,
   "metadata": {
    "collapsed": false
   },
   "outputs": [],
   "source": [
    "w_data = summary[(summary.Sex == 2) & (summary.Age > 20)]\n",
    "m_data = summary[(summary.Sex == 1) & (summary.Age > 20)]"
   ]
  },
  {
   "cell_type": "markdown",
   "metadata": {},
   "source": [
    "### Time Spend Watching Television & Movies"
   ]
  },
  {
   "cell_type": "markdown",
   "metadata": {},
   "source": [
    "#### Women and Television"
   ]
  },
  {
   "cell_type": "markdown",
   "metadata": {},
   "source": [
    "Here we see that of all women over the age of 20, 8% reported spending some amount of time watching TV and movies.\n",
    "Women spent an aver of 209 minutes a day watching television, with the vast majority of women around 200 minutes or less a day."
   ]
  },
  {
   "cell_type": "code",
   "execution_count": 5,
   "metadata": {
    "collapsed": false
   },
   "outputs": [
    {
     "name": "stdout",
     "output_type": "stream",
     "text": [
      "8% of women over age 20 reported spending time watching TV\n"
     ]
    },
    {
     "data": {
      "image/png": "[encoded data removed]",
      "text/plain": [
       "<matplotlib.figure.Figure at 0x1161279b0>"
      ]
     },
     "metadata": {},
     "output_type": "display_data"
    }
   ],
   "source": [
    "w_tv = round(len(w_data['TV'].unique())/len(w_data['TV'])*100)\n",
    "print(\"{}% of women over age 20 reported spending time watching TV\".format(w_tv))\n",
    "w_tv = w_data[w_data['TV'] != 0]\n",
    "w_tv_mean = w_tv['TV'].mean()\n",
    "w_tv['TV'].plot(kind='hist', title='Time women over 20 spent watching tv and movies')\n",
    "plt.xlabel(\"Time\\n Mean : {} minutes\".format(round(w_tv_mean)))\n",
    "ymin, ymax = plt.ylim()\n",
    "plt.vlines(w_tv_mean, 0, ymax, color='black')\n",
    "plt.show()"
   ]
  },
  {
   "cell_type": "markdown",
   "metadata": {},
   "source": [
    "#### Men and Television"
   ]
  },
  {
   "cell_type": "markdown",
   "metadata": {},
   "source": [
    "Here we see that of all women over the age of 20, 11% reported spending some amount of time watching TV and movies.\n",
    "Men spent an aver of 245 minutes a day watching television, with the vast majority of women around 200 minutes or less a day."
   ]
  },
  {
   "cell_type": "code",
   "execution_count": 6,
   "metadata": {
    "collapsed": false
   },
   "outputs": [
    {
     "name": "stdout",
     "output_type": "stream",
     "text": [
      "11% of men over age 20 reported spending time watching tv\n"
     ]
    },
    {
     "data": {
      "text/plain": [
       "<matplotlib.collections.LineCollection at 0x11624a160>"
      ]
     },
     "execution_count": 6,
     "metadata": {},
     "output_type": "execute_result"
    },
    {
     "data": {
      "image/png": "[encoded data removed]",
      "text/plain": [
       "<matplotlib.figure.Figure at 0x11624a748>"
      ]
     },
     "metadata": {},
     "output_type": "display_data"
    }
   ],
   "source": [
    "m_tv = round(len(m_data['TV'].unique())/len(m_data['TV'])*100)\n",
    "print(\"{}% of men over age 20 reported spending time watching tv\".format(m_tv))\n",
    "m_tv_data = m_data[m_data['TV'] > 0]\n",
    "m_tv_mean = m_tv_data['TV'].mean()\n",
    "m_tv_data['TV'].plot(kind='hist', title='Time men over 20 spent watching tv and movies')\n",
    "plt.xlabel(\"Time\\n Mean : {} minutes\".format(round(m_tv_mean)))\n",
    "ymin, ymax = plt.ylim()\n",
    "plt.vlines(m_tv_mean, 0, ymax, color='black')"
   ]
  },
  {
   "cell_type": "code",
   "execution_count": 7,
   "metadata": {
    "collapsed": false
   },
   "outputs": [
    {
     "data": {
      "text/plain": [
       "<matplotlib.axes._subplots.AxesSubplot at 0x1161f1eb8>"
      ]
     },
     "execution_count": 7,
     "metadata": {},
     "output_type": "execute_result"
    },
    {
     "data": {
      "image/png": "[encoded data removed]",
      "text/plain": [
       "<matplotlib.figure.Figure at 0x116001eb8>"
      ]
     },
     "metadata": {},
     "output_type": "display_data"
    }
   ],
   "source": [
    "time_men_tv = (m_data['TV'])\n",
    "time_men_tv.name = \"Men\"\n",
    "time_women_tv = (w_data['TV'])\n",
    "time_women_tv.name = \"Women\"\n",
    "time_tv = pd.concat([time_men_tv, time_women_tv], axis = 1)\n",
    "time_tv.plot(kind = 'box', title = \"Men and Women Average Time Watching TV\")"
   ]
  },
  {
   "cell_type": "markdown",
   "metadata": {},
   "source": [
    "#### Men with Children and Television\n",
    "Here we see that 18% of men over the age of 20 with at least 1 child reported spending time watching television or movies. The average amount of time spent watching television by this group was 192. The vast majority of men with at least one child reported spending less than 200 minutes a day watching television."
   ]
  },
  {
   "cell_type": "code",
   "execution_count": 8,
   "metadata": {
    "collapsed": true
   },
   "outputs": [],
   "source": [
    "summary_cut = summary[['Age', 'Sex', 'Num_Kids', 'ID', 'read_kids', 'talk_kids', 'arts_kids', 'TV']]\n",
    "m_w_kids = summary[['Age', 'Sex', 'Num_Kids', 'TV']]\n",
    "m_w_kids = m_w_kids[(m_w_kids['TV'] != 0) & \n",
    "                      (m_w_kids.Sex == 1) & \n",
    "                      (m_w_kids.Age > 20) & \n",
    "                      (m_w_kids.Num_Kids > 0)]"
   ]
  },
  {
   "cell_type": "code",
   "execution_count": 9,
   "metadata": {
    "collapsed": false
   },
   "outputs": [
    {
     "name": "stdout",
     "output_type": "stream",
     "text": [
      "18% of men over age 20 with at least 1 child reported \n",
      "spending time watching tv\n"
     ]
    },
    {
     "data": {
      "text/plain": [
       "<matplotlib.collections.LineCollection at 0x116001cc0>"
      ]
     },
     "execution_count": 9,
     "metadata": {},
     "output_type": "execute_result"
    },
    {
     "data": {
      "image/png": "[encoded data removed]",
      "text/plain": [
       "<matplotlib.figure.Figure at 0x116001a58>"
      ]
     },
     "metadata": {},
     "output_type": "display_data"
    }
   ],
   "source": [
    "m_w_kids_tele = round(len(m_w_kids['TV'].unique())/len(m_w_kids['TV'])*100)\n",
    "print(\"{}% of men over age 20 with at least 1 child reported \\nspending time watching tv\".format(m_w_kids_tele))\n",
    "m_w_kids_tv_mean = m_w_kids['TV'].mean()\n",
    "m_w_kids['TV'].plot(kind='hist', title='Time men over 20 spent watching tv and movies')\n",
    "plt.xlabel(\"Time\\n Mean : {} minutes\".format(round(m_w_kids_tv_mean)))\n",
    "ymin, ymax = plt.ylim()\n",
    "plt.vlines(m_w_kids_tv_mean, 0, ymax, color='black')"
   ]
  },
  {
   "cell_type": "markdown",
   "metadata": {},
   "source": [
    "#### Women with Children and Television\n",
    "Here we see that 16% of men over the age of 20 with at least 1 child reported spending time watching television or movies. The average amount of time spent watching television by this group was 160. The vast majority of men with at least one child reported spending less than 200 minutes a day watching television."
   ]
  },
  {
   "cell_type": "code",
   "execution_count": 10,
   "metadata": {
    "collapsed": false
   },
   "outputs": [
    {
     "name": "stdout",
     "output_type": "stream",
     "text": [
      "16% of women over age 20 with at least 1 child reported \n",
      "spending time watching tv\n"
     ]
    },
    {
     "data": {
      "text/plain": [
       "<matplotlib.collections.LineCollection at 0x11650f940>"
      ]
     },
     "execution_count": 10,
     "metadata": {},
     "output_type": "execute_result"
    },
    {
     "data": {
      "image/png": "[encoded data removed]",
      "text/plain": [
       "<matplotlib.figure.Figure at 0x11653d550>"
      ]
     },
     "metadata": {},
     "output_type": "display_data"
    }
   ],
   "source": [
    "w_w_kids = summary[['Age', 'Sex', 'Num_Kids', 'TV']]\n",
    "w_w_kids = w_w_kids[(w_w_kids['TV'] != 0) & \n",
    "                      (w_w_kids.Sex == 2) & \n",
    "                      (w_w_kids.Age > 20) & \n",
    "                      (w_w_kids.Num_Kids > 0)]\n",
    "w_w_kids_tele = round(len(w_w_kids['TV'].unique())/len(w_w_kids['TV'])*100)\n",
    "print(\"{}% of women over age 20 with at least 1 child reported \\nspending time watching tv\".format(w_w_kids_tele))\n",
    "w_w_kids_tv_mean = w_w_kids['TV'].mean()\n",
    "w_w_kids['TV'].plot(kind='hist', title='Time women over 20 spent watching tv and movies')\n",
    "plt.xlabel(\"Time\\n Mean : {} minutes\".format(round(w_w_kids_tv_mean)))\n",
    "ymin, ymax = plt.ylim()\n",
    "plt.vlines(w_w_kids_tv_mean, 0, ymax, color='black')"
   ]
  },
  {
   "cell_type": "code",
   "execution_count": 11,
   "metadata": {
    "collapsed": false
   },
   "outputs": [
    {
     "data": {
      "text/plain": [
       "<matplotlib.axes._subplots.AxesSubplot at 0x11f276e48>"
      ]
     },
     "execution_count": 11,
     "metadata": {},
     "output_type": "execute_result"
    },
    {
     "data": {
      "image/png": "[encoded data removed]",
      "text/plain": [
       "<matplotlib.figure.Figure at 0x116564390>"
      ]
     },
     "metadata": {},
     "output_type": "display_data"
    }
   ],
   "source": [
    "time_men_kids_tv = (m_w_kids['TV'])\n",
    "time_men_kids_tv.name = \"Men\"\n",
    "time_women_kids_tv = (w_w_kids['TV'])\n",
    "time_women_kids_tv.name = \"Women\"\n",
    "time_study = pd.concat([time_men_kids_tv, time_women_kids_tv], axis = 1)\n",
    "time_study.plot(kind = 'box', title = \"Men and Women with Kids \\nAverage Time Watching TV\")"
   ]
  },
  {
   "cell_type": "code",
   "execution_count": 12,
   "metadata": {
    "collapsed": false
   },
   "outputs": [
    {
     "data": {
      "text/plain": [
       "<matplotlib.axes._subplots.AxesSubplot at 0x11f267ef0>"
      ]
     },
     "execution_count": 12,
     "metadata": {},
     "output_type": "execute_result"
    },
    {
     "data": {
      "image/png": "[encoded data removed]",
      "text/plain": [
       "<matplotlib.figure.Figure at 0x11631a550>"
      ]
     },
     "metadata": {},
     "output_type": "display_data"
    }
   ],
   "source": [
    "time_men_kids_tv = (m_w_kids['TV'])\n",
    "time_men_kids_tv.name = \"Men\"\n",
    "time_women_kids_tv = (w_w_kids['TV'])\n",
    "time_women_kids_tv.name = \"Women\"\n",
    "time_study_4 = pd.concat([time_study, time_tv], axis = 1)\n",
    "time_study_4.plot(kind = 'box', title = \"Men and Women with and without Kids \\nAverage Time Watching TV\")"
   ]
  },
  {
   "cell_type": "markdown",
   "metadata": {},
   "source": [
    "#### Children and Television\n",
    "Here we see a clear inverse correlation with the number of children in the household and the amount of television watched.  As the number of children go up, not only to fewer individuals report watching any amount television, but the number of minutes spent watching television clearly decreases."
   ]
  },
  {
   "cell_type": "code",
   "execution_count": 13,
   "metadata": {
    "collapsed": false
   },
   "outputs": [
    {
     "data": {
      "text/plain": [
       "<matplotlib.text.Text at 0x116251b00>"
      ]
     },
     "execution_count": 13,
     "metadata": {},
     "output_type": "execute_result"
    },
    {
     "data": {
      "image/png": "[encoded data removed]",
      "text/plain": [
       "<matplotlib.figure.Figure at 0x116564438>"
      ]
     },
     "metadata": {},
     "output_type": "display_data"
    }
   ],
   "source": [
    "tv_v_kids = summary_cut[(summary_cut.TV != 0)]\n",
    "tv_v_kids.plot('Num_Kids', 'TV', kind='scatter', \n",
    "                title=\"TV vs. Num_Kids\")\n",
    "plt.xlabel('Number of Kids')\n",
    "plt.ylabel('Minutes Watching TV or Movies')"
   ]
  },
  {
   "cell_type": "code",
   "execution_count": 14,
   "metadata": {
    "collapsed": false
   },
   "outputs": [
    {
     "data": {
      "text/html": [
       "<div>\n",
       "<table border=\"1\" class=\"dataframe\">\n",
       "  <thead>\n",
       "    <tr style=\"text-align: right;\">\n",
       "      <th></th>\n",
       "      <th>Age</th>\n",
       "      <th>Sex</th>\n",
       "      <th>Num_Kids</th>\n",
       "      <th>ID</th>\n",
       "      <th>read_kids</th>\n",
       "      <th>talk_kids</th>\n",
       "      <th>arts_kids</th>\n",
       "      <th>TV</th>\n",
       "    </tr>\n",
       "  </thead>\n",
       "  <tbody>\n",
       "    <tr>\n",
       "      <th>Age</th>\n",
       "      <td>1.000000</td>\n",
       "      <td>0.044816</td>\n",
       "      <td>-0.479507</td>\n",
       "      <td>-0.006664</td>\n",
       "      <td>-0.091287</td>\n",
       "      <td>-0.047120</td>\n",
       "      <td>-0.012074</td>\n",
       "      <td>0.244314</td>\n",
       "    </tr>\n",
       "    <tr>\n",
       "      <th>Sex</th>\n",
       "      <td>0.044816</td>\n",
       "      <td>1.000000</td>\n",
       "      <td>0.010569</td>\n",
       "      <td>-0.016202</td>\n",
       "      <td>0.041917</td>\n",
       "      <td>0.032125</td>\n",
       "      <td>0.005728</td>\n",
       "      <td>-0.096898</td>\n",
       "    </tr>\n",
       "    <tr>\n",
       "      <th>Num_Kids</th>\n",
       "      <td>-0.479507</td>\n",
       "      <td>0.010569</td>\n",
       "      <td>1.000000</td>\n",
       "      <td>-0.007423</td>\n",
       "      <td>0.132859</td>\n",
       "      <td>0.160675</td>\n",
       "      <td>0.029006</td>\n",
       "      <td>-0.195912</td>\n",
       "    </tr>\n",
       "    <tr>\n",
       "      <th>ID</th>\n",
       "      <td>-0.006664</td>\n",
       "      <td>-0.016202</td>\n",
       "      <td>-0.007423</td>\n",
       "      <td>1.000000</td>\n",
       "      <td>-0.011072</td>\n",
       "      <td>0.004444</td>\n",
       "      <td>0.004751</td>\n",
       "      <td>0.004206</td>\n",
       "    </tr>\n",
       "    <tr>\n",
       "      <th>read_kids</th>\n",
       "      <td>-0.091287</td>\n",
       "      <td>0.041917</td>\n",
       "      <td>0.132859</td>\n",
       "      <td>-0.011072</td>\n",
       "      <td>1.000000</td>\n",
       "      <td>0.042213</td>\n",
       "      <td>0.029528</td>\n",
       "      <td>-0.060533</td>\n",
       "    </tr>\n",
       "    <tr>\n",
       "      <th>talk_kids</th>\n",
       "      <td>-0.047120</td>\n",
       "      <td>0.032125</td>\n",
       "      <td>0.160675</td>\n",
       "      <td>0.004444</td>\n",
       "      <td>0.042213</td>\n",
       "      <td>1.000000</td>\n",
       "      <td>-0.001803</td>\n",
       "      <td>-0.044105</td>\n",
       "    </tr>\n",
       "    <tr>\n",
       "      <th>arts_kids</th>\n",
       "      <td>-0.012074</td>\n",
       "      <td>0.005728</td>\n",
       "      <td>0.029006</td>\n",
       "      <td>0.004751</td>\n",
       "      <td>0.029528</td>\n",
       "      <td>-0.001803</td>\n",
       "      <td>1.000000</td>\n",
       "      <td>-0.005026</td>\n",
       "    </tr>\n",
       "    <tr>\n",
       "      <th>TV</th>\n",
       "      <td>0.244314</td>\n",
       "      <td>-0.096898</td>\n",
       "      <td>-0.195912</td>\n",
       "      <td>0.004206</td>\n",
       "      <td>-0.060533</td>\n",
       "      <td>-0.044105</td>\n",
       "      <td>-0.005026</td>\n",
       "      <td>1.000000</td>\n",
       "    </tr>\n",
       "  </tbody>\n",
       "</table>\n",
       "</div>"
      ],
      "text/plain": [
       "                Age       Sex  Num_Kids        ID  read_kids  talk_kids  \\\n",
       "Age        1.000000  0.044816 -0.479507 -0.006664  -0.091287  -0.047120   \n",
       "Sex        0.044816  1.000000  0.010569 -0.016202   0.041917   0.032125   \n",
       "Num_Kids  -0.479507  0.010569  1.000000 -0.007423   0.132859   0.160675   \n",
       "ID        -0.006664 -0.016202 -0.007423  1.000000  -0.011072   0.004444   \n",
       "read_kids -0.091287  0.041917  0.132859 -0.011072   1.000000   0.042213   \n",
       "talk_kids -0.047120  0.032125  0.160675  0.004444   0.042213   1.000000   \n",
       "arts_kids -0.012074  0.005728  0.029006  0.004751   0.029528  -0.001803   \n",
       "TV         0.244314 -0.096898 -0.195912  0.004206  -0.060533  -0.044105   \n",
       "\n",
       "           arts_kids        TV  \n",
       "Age        -0.012074  0.244314  \n",
       "Sex         0.005728 -0.096898  \n",
       "Num_Kids    0.029006 -0.195912  \n",
       "ID          0.004751  0.004206  \n",
       "read_kids   0.029528 -0.060533  \n",
       "talk_kids  -0.001803 -0.044105  \n",
       "arts_kids   1.000000 -0.005026  \n",
       "TV         -0.005026  1.000000  "
      ]
     },
     "execution_count": 14,
     "metadata": {},
     "output_type": "execute_result"
    }
   ],
   "source": [
    "tv_kids_corr = tv_v_kids.corr()\n",
    "tv_kids_corr"
   ]
  },
  {
   "cell_type": "code",
   "execution_count": null,
   "metadata": {
    "collapsed": true
   },
   "outputs": [],
   "source": []
  }
 ],
 "metadata": {
  "kernelspec": {
   "display_name": "Python 3",
   "language": "python",
   "name": "python3"
  },
  "language_info": {
   "codemirror_mode": {
    "name": "ipython",
    "version": 3
   },
   "file_extension": ".py",
   "mimetype": "text/x-python",
   "name": "python",
   "nbconvert_exporter": "python",
   "pygments_lexer": "ipython3",
   "version": "3.5.1"
  }
 },
 "nbformat": 4,
 "nbformat_minor": 0
}
